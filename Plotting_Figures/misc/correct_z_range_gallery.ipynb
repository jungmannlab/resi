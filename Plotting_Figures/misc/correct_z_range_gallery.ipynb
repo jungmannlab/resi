{
 "cells": [
  {
   "cell_type": "markdown",
   "id": "c87c1b8b",
   "metadata": {},
   "source": [
    "# Correct Z range for gallery view\n",
    "## Philipp Steen 2022\n",
    "This script adjusts the z coordinates for all localizations (or RESI localizations) by subtracting a constant value per group (pick) so that the displayed z range has consistent color coding for all picks."
   ]
  },
  {
   "cell_type": "code",
   "execution_count": 9,
   "id": "9fc6b9dc",
   "metadata": {},
   "outputs": [],
   "source": [
    "import pandas as pd\n",
    "import h5py\n",
    "\n",
    "def Import(input_path): #Imports clustered .hdf5 from Picasso. Requires group info.\n",
    "    fulltable = pd.read_hdf(input_path, key = 'locs')\n",
    "    fulltable.sort_values(by=['group', 'frame'])\n",
    "    return(fulltable)\n",
    "\n",
    "path_resi = \"resi-file-path.hdf5\"\n",
    "path_dnapaint = \"dna-paint-file-path.hdf5\"\n",
    "\n",
    "path = \"destination-path/\"\n",
    "\n",
    "def picasso_hdf5(df, hdf5_fname, hdf5_oldname, path):\n",
    "    \n",
    "    \"\"\"\n",
    "    This function recieves a pandas data frame coming from a Picasso .hdf5\n",
    "    file but that has been modified somehow (e.g. coordinates rotated, \n",
    "    groups edited, etc) and formats it to be compatible with Picasso. \n",
    "    It also creates the necessary .yaml file.\n",
    "    \n",
    "    It is meant to be used in a folder that contains the original Picasso\n",
    "    .hdf5 file and the .yaml file.\n",
    "    \n",
    "    - df: pandas data frame object\n",
    "    - hdf5_fname: the desired filename for the Picasso-compatible .hdf5 file\n",
    "    - hdf5_oldname: name of the original Picasso file that was modified\n",
    "    - path: the absolute path containing the path to the file's folder\n",
    "    \n",
    "    Note: include \".hdf5\" in the file names\n",
    "    Warning: the .yaml file is basically a copy of the old one. If important\n",
    "    information should be added to the new .yaml file this function should be\n",
    "    modified\n",
    "    \n",
    "    \"\"\"\n",
    "\n",
    "    labels = list(df.keys())\n",
    "    df_picasso = df.reindex(columns=labels, fill_value=1)\n",
    "    locs = df_picasso.to_records(index = False)\n",
    "\n",
    "    # Saving data\n",
    "    \n",
    "    hf = h5py.File(path + hdf5_fname, 'w')\n",
    "    hf.create_dataset('locs', data=locs)\n",
    "    hf.close()\n",
    "\n",
    "    # YAML saver\n",
    "\n",
    "    yaml_oldname = path + hdf5_oldname.replace('.hdf5', '.yaml')\n",
    "    yaml_newname = path + hdf5_fname.replace('.hdf5', '.yaml')\n",
    "    \n",
    "    yaml_file_info = open(yaml_oldname, 'r')\n",
    "    yaml_file_data = yaml_file_info.read()\n",
    "    \n",
    "    yaml_newfile = open(yaml_newname, 'w')\n",
    "    yaml_newfile.write(yaml_file_data)\n",
    "    yaml_newfile.close()   \n",
    "    \n",
    "    print('New Picasso-compatible .hdf5 file and .yaml file successfully created.')"
   ]
  },
  {
   "cell_type": "code",
   "execution_count": 10,
   "id": "e2d9ebd4",
   "metadata": {},
   "outputs": [],
   "source": [
    "df_resi = Import(path_resi)\n",
    "df_dnapaint = Import(path_dnapaint)"
   ]
  },
  {
   "cell_type": "code",
   "execution_count": 26,
   "id": "57f77e60",
   "metadata": {},
   "outputs": [],
   "source": [
    "group_ids = df_resi[\"group\"].unique()\n",
    "\n",
    "filter_i = []\n",
    "\n",
    "for i in group_ids:\n",
    "    resi_slice = df_resi[df_resi[\"group\"] == i]\n",
    "    resi_min_z = resi_slice.groupby(\"group\").min()\n",
    "    resi_max_z = resi_slice.groupby(\"group\").max()\n",
    "    \n",
    "    if (abs((float(resi_min_z[\"z\"]) - float(resi_max_z[\"z\"]))) <= 140):\n",
    "        df_resi.loc[df_resi.group == i, 'z'] = df_resi.z - float(resi_min_z[\"z\"])\n",
    "        df_dnapaint.loc[df_dnapaint.group == i, 'z'] = df_dnapaint.z - float(resi_min_z[\"z\"])\n",
    "        filter_i.append(i)\n",
    "\n",
    "df_resi_filter = df_resi[df_resi['group'].isin(filter_i)]\n",
    "df_dnapaint_filter = df_dnapaint[df_dnapaint['group'].isin(filter_i)]"
   ]
  },
  {
   "cell_type": "code",
   "execution_count": 27,
   "id": "5baffbda",
   "metadata": {},
   "outputs": [
    {
     "name": "stdout",
     "output_type": "stream",
     "text": [
      "New Picasso-compatible .hdf5 file and .yaml file successfully created.\n",
      "New Picasso-compatible .hdf5 file and .yaml file successfully created.\n"
     ]
    }
   ],
   "source": [
    "picasso_hdf5(df_resi_filter, \"resi_z_corrected.hdf5\", \"joined_RESI_rounds1-4_RESI.hdf5\", \"path/\")\n",
    "\n",
    "picasso_hdf5(df_dnapaint_filter, \"dnapaint_z_corrected.hdf5\", \"joined_RESI_rounds_1-4_DNAPAINT.hdf5\", \"path/\")"
   ]
  },
  {
   "cell_type": "code",
   "execution_count": null,
   "id": "be08ecba",
   "metadata": {},
   "outputs": [],
   "source": []
  }
 ],
 "metadata": {
  "kernelspec": {
   "display_name": "Python 3 (ipykernel)",
   "language": "python",
   "name": "python3"
  },
  "language_info": {
   "codemirror_mode": {
    "name": "ipython",
    "version": 3
   },
   "file_extension": ".py",
   "mimetype": "text/x-python",
   "name": "python",
   "nbconvert_exporter": "python",
   "pygments_lexer": "ipython3",
   "version": "3.9.7"
  }
 },
 "nbformat": 4,
 "nbformat_minor": 5
}
