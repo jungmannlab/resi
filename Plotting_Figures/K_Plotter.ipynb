{
 "cells": [
  {
   "cell_type": "code",
   "execution_count": 1,
   "id": "760bdd54",
   "metadata": {},
   "outputs": [],
   "source": [
    "import numpy as np\n",
    "import scipy as sp\n",
    "import pandas as pd\n",
    "import matplotlib.pyplot as plt\n",
    "import matplotlib as mpl\n",
    "from scipy.stats import norm\n",
    "import matplotlib.mlab as mlab\n",
    "import math"
   ]
  },
  {
   "cell_type": "code",
   "execution_count": 27,
   "id": "23ec316b",
   "metadata": {},
   "outputs": [],
   "source": [
    "'''\n",
    "def GaussFWHM(R_vals, display_label):\n",
    "    (mu, sigma) = norm.fit(R_vals)\n",
    "    n, bins, patches = plt.hist(R_vals, density=True, color = \"orange\", alpha = 0.5)\n",
    "    xax = np.linspace(bins[0], bins[-1], 1000)\n",
    "    y = norm.pdf(xax, mu, sigma)\n",
    "    sigma_coords = [mu-sigma, mu+sigma]\n",
    "    FWHM = 2.354820045*sigma\n",
    "    FWHM_coords = [mu-0.5*FWHM, mu+0.5*FWHM]\n",
    "    plt.plot(xax,y, color = \"red\")\n",
    "    plt.axvline(FWHM_coords[0], color = \"black\")\n",
    "    plt.axvline(FWHM_coords[1], color = \"black\")\n",
    "    plt.axvline(sigma_coords[0], color = \"blue\")\n",
    "    plt.axvline(sigma_coords[1], color = \"blue\")\n",
    "    plt.title(display_label)\n",
    "    #plt.show()\n",
    "    plt.close()\n",
    "    return(FWHM)\n",
    "'''\n",
    "def Plot_RESI(Locations, Sizes, Fill_Color, Edge_Color, Opacity, Show_Labels, Textcolor, Whichside, Labels):\n",
    "    for count, value in enumerate(Locations):\n",
    "        if math.isnan(value[0]) or math.isnan(value[1]):\n",
    "            print(\"No\")\n",
    "        else:\n",
    "            draw_circle = plt.Circle((value[0], value[1]), Sizes[count], \n",
    "                                 alpha=Opacity, facecolor = Fill_Color, edgecolor = Edge_Color)\n",
    "            ax.add_artist(draw_circle)\n",
    "        if Show_Labels==True:\n",
    "            if Whichside==\"left\":\n",
    "                ax.text(value[0]-11, value[1]-1, str(round(Labels[count], 2))+\" nm\", color = Textcolor)\n",
    "            else:\n",
    "                ax.text(value[0]+1.5, value[1]-1, str(round(Labels[count], 2))+\" nm\", color = Textcolor)\n",
    "\n",
    "def ResiPrec(K):\n",
    "    NeNa = 2\n",
    "    if K != 0:\n",
    "        return(NeNa/(math.sqrt(K)))\n",
    "    else:\n",
    "        return(10000000000)\n",
    "\n",
    "def FindCorners(R1_table, R3_table):\n",
    "    #Find innermost data points to adjust field of view for the plot\n",
    "    Minx = min(R1_table[\"x\"].min(), R3_table[\"x\"].min())*130 -5\n",
    "    Miny = max(R1_table[\"y\"].max(), R3_table[\"y\"].max())*130 +5\n",
    "    \n",
    "    #Find outermost data points to adjust field of view for the plot\n",
    "    maxOuter = max(((max(R1_table[\"x\"].max(), R3_table[\"x\"].max())*130)-Minx), \n",
    "                   (-(min(R1_table[\"y\"].min(), R3_table[\"y\"].min())*130)+Miny)) +5\n",
    "    \n",
    "    return(Minx, Miny, maxOuter)\n",
    "\n",
    "def Transform(R1_table, R3_table, Minx, Miny, maxOuter):\n",
    "    #Transform data points from pixels to nanometers and set the bottom left of the plot to 0,0\n",
    "    R1_table[\"x\"] = 130*R1_table[\"x\"]-Minx\n",
    "    R3_table[\"x\"] = 130*R3_table[\"x\"]-Minx\n",
    "    R1_table[\"y\"] = -(130)*R1_table[\"y\"]+Miny\n",
    "    R3_table[\"y\"] = -(130)*R3_table[\"y\"]+Miny\n",
    "    return(R1_table, R3_table)"
   ]
  },
  {
   "cell_type": "code",
   "execution_count": 55,
   "id": "e84f0437",
   "metadata": {},
   "outputs": [],
   "source": [
    "#################################\n",
    "##                             ##\n",
    "##  Input and format the data  ##\n",
    "##                             ##\n",
    "#################################\n",
    "\n",
    "input_path_R1 = \"/Volumes/pool-miblab4/users/steen/z.microscopy_raw/02_Project_RESI/211221_RESI_newVoyager_FusionBT_R1R3_nodel/resi-analysis_2/R1_picked_ori41_ClusterD4_50.hdf5\"\n",
    "input_path_R3 = \"/Volumes/pool-miblab4/users/steen/z.microscopy_raw/02_Project_RESI/211221_RESI_newVoyager_FusionBT_R1R3_nodel/resi-analysis_2/R3_picked_ori41_aligned_ClusterD4_50.hdf5\"\n",
    "\n",
    "input_path_R1_messy = \"/Volumes/pool-miblab4/users/steen/z.microscopy_raw/02_Project_RESI/211221_RESI_newVoyager_FusionBT_R1R3_nodel/resi-analysis_2/R1_picked_ori41.hdf5\"\n",
    "input_path_R3_messy = \"/Volumes/pool-miblab4/users/steen/z.microscopy_raw/02_Project_RESI/211221_RESI_newVoyager_FusionBT_R1R3_nodel/resi-analysis_2/R3_picked_ori41_aligned.hdf5\"\n",
    "\n",
    "#input_path_R1 = \"/Volumes/pool-miblab4/users/steen/z.microscopy_raw/02_Project_RESI/220114_5nm_5xR1-5pr_7xR3-3pr_R4-align/analysis/R1_R4_ori42_ClusterD4_50.hdf5\"\n",
    "#input_path_R3 = \"/Volumes/pool-miblab4/users/steen/z.microscopy_raw/02_Project_RESI/220114_5nm_5xR1-5pr_7xR3-3pr_R4-align/analysis/R3_R4_ori42_aligned_ClusterD4_50.hdf5\"\n",
    "\n",
    "#input_path_R1_messy = \"/Volumes/pool-miblab4/users/steen/z.microscopy_raw/02_Project_RESI/220114_5nm_5xR1-5pr_7xR3-3pr_R4-align/analysis/R1_R4_ori42.hdf5\"\n",
    "#input_path_R3_messy = \"/Volumes/pool-miblab4/users/steen/z.microscopy_raw/02_Project_RESI/220114_5nm_5xR1-5pr_7xR3-3pr_R4-align/analysis/R3_R4_ori42_aligned.hdf5\"\n",
    "\n",
    "#Read in data\n",
    "R1_table = pd.read_hdf(input_path_R1, key = 'locs')\n",
    "R3_table = pd.read_hdf(input_path_R3, key = 'locs')\n",
    "R1_table.sort_values(by=['group', 'frame'])\n",
    "R3_table.sort_values(by=['group', 'frame'])\n",
    "\n",
    "R1_messy = pd.read_hdf(input_path_R1_messy, key = 'locs')\n",
    "R3_messy = pd.read_hdf(input_path_R3_messy, key = 'locs')\n",
    "\n",
    "Minx, Miny, maxOuter = FindCorners(R1_table, R3_table)\n",
    "\n",
    "R1_table, R3_table = Transform(R1_table, R3_table, Minx, Miny, maxOuter)\n",
    "R1_messy, R3_messy = Transform(R1_messy, R3_messy, Minx, Miny, maxOuter)\n"
   ]
  },
  {
   "cell_type": "code",
   "execution_count": 56,
   "id": "40ab5b3b",
   "metadata": {},
   "outputs": [
    {
     "data": {
      "text/plain": [
       "'\\n#Calculate distances in x and y as well as the direct distance\\nResi_differences = (R1_RESI - R3_RESI)\\nResi_distances = (np.sqrt(Resi_differences[:,0]**2 + Resi_differences[:,1]**2))\\nprint(\"dx and dy: \\n\", Resi_differences)\\nprint(\"Distances: \\n\", Resi_distances)\\n'"
      ]
     },
     "execution_count": 56,
     "metadata": {},
     "output_type": "execute_result"
    }
   ],
   "source": [
    "R1_RESI = []\n",
    "R3_RESI = []\n",
    "\n",
    "R1_prec = []\n",
    "R3_prec = []\n",
    "\n",
    "#These pick (group) numbers correspond to R1 and R3 sites\n",
    "for i in range(max(R1_table[\"group\"].max(), R3_table[\"group\"].max()) + 1):\n",
    "    R1 = (R1_table[R1_table[\"group\"] == i])\n",
    "    Avg_R1 = R1[\"x\"].mean(), R1[\"y\"].mean()\n",
    "    \n",
    "    R3 = (R3_table[R3_table[\"group\"] == i])\n",
    "    Avg_R3 = R3[\"x\"].mean(), R3[\"y\"].mean()\n",
    "    \n",
    "    R1_RESI.append(Avg_R1)\n",
    "    R3_RESI.append(Avg_R3)\n",
    "    \n",
    "    R1_prec.append(ResiPrec(len(R1)))\n",
    "    R3_prec.append(ResiPrec(len(R3)))\n",
    "        \n",
    "#Turn the lists into numpy arrays for better usability\n",
    "R1_RESI = np.asarray(R1_RESI)\n",
    "R3_RESI = np.asarray(R3_RESI)\n",
    "\n",
    "R1_prec = np.asarray(R1_prec)\n",
    "R3_prec = np.asarray(R3_prec)\n",
    "\n",
    "'''\n",
    "#Calculate distances in x and y as well as the direct distance\n",
    "Resi_differences = (R1_RESI - R3_RESI)\n",
    "Resi_distances = (np.sqrt(Resi_differences[:,0]**2 + Resi_differences[:,1]**2))\n",
    "print(\"dx and dy: \\n\", Resi_differences)\n",
    "print(\"Distances: \\n\", Resi_distances)\n",
    "'''"
   ]
  },
  {
   "cell_type": "code",
   "execution_count": 60,
   "id": "3abb8c0a",
   "metadata": {},
   "outputs": [
    {
     "name": "stdout",
     "output_type": "stream",
     "text": [
      "No\n",
      "No\n",
      "No\n"
     ]
    },
    {
     "data": {
      "image/png": "[encoded data removed]",
      "text/plain": [
       "<Figure size 1200x1200 with 1 Axes>"
      ]
     },
     "metadata": {
      "needs_background": "light"
     },
     "output_type": "display_data"
    }
   ],
   "source": [
    "#######################################\n",
    "##                                   ##\n",
    "##  Prepare the plot                 ##\n",
    "##                                   ##\n",
    "#######################################\n",
    "\n",
    "color = \"black\"\n",
    "\n",
    "size_inches = 8\n",
    "dpi = 150\n",
    "\n",
    "fig, ax = plt.subplots(figsize=(size_inches, size_inches), dpi=dpi)\n",
    "\n",
    "ax.axis('equal')\n",
    "ax.set_ylim(0, maxOuter)\n",
    "ax.set_xlim(0, maxOuter)\n",
    "\n",
    "if color == \"black\":\n",
    "    ax.set_facecolor(\"black\")\n",
    "    alpha1 = 0.4\n",
    "    alpha2 = 1\n",
    "    edge = \"white\"\n",
    "    textcol = \"white\"\n",
    "elif color == \"white\":\n",
    "    alpha1 = 0.2\n",
    "    alpha2 = 0.4\n",
    "    textcol = \"black\"\n",
    "    edge = \"black\"\n",
    "    \n",
    "\n",
    "#######################################\n",
    "##                                   ##\n",
    "##  Plot the original localizations  ##\n",
    "##                                   ##\n",
    "#######################################\n",
    "    \n",
    "#ax.scatter(R1_table[\"x\"], R1_table[\"y\"], s=0.5, alpha=alpha1, color = \"orange\")\n",
    "#ax.scatter(R3_table[\"x\"], R3_table[\"y\"], s=0.5, alpha=alpha1, color = \"teal\")\n",
    "\n",
    "#ax.scatter(R1_messy[\"x\"], R1_messy[\"y\"], s=0.4, alpha=alpha1, color = \"red\")\n",
    "#ax.scatter(R3_messy[\"x\"], R3_messy[\"y\"], s=0.4, alpha=alpha1, color = \"lightblue\")\n",
    "\n",
    "###################################\n",
    "##                               ##\n",
    "##  Plot the RESI localizations  ##\n",
    "##                               ##\n",
    "###################################\n",
    "\n",
    "Plot_RESI(R1_RESI, R1_prec, \"red\", edge, alpha2, False, textcol, \"left\", Labels = R1_prec)\n",
    "Plot_RESI(R3_RESI, R3_prec, \"blue\", edge, alpha2, False, textcol, \"right\", Labels = R3_prec)\n",
    "\n",
    "#Plot the R4 RESI averages with standard deviation\n",
    "#circles(R4_positions_R1_channel, R4_std_R1_channel_avg, \"maroon\", edge, False, alpha2, textcol, labels = [])\n",
    "#circles(R4_positions_R3_channel, R4_std_R3_channel_avg, \"darkblue\", edge, True, alpha2, textcol, labels = R4_distances)"
   ]
  },
  {
   "cell_type": "code",
   "execution_count": null,
   "id": "6035b90c",
   "metadata": {},
   "outputs": [],
   "source": []
  },
  {
   "cell_type": "code",
   "execution_count": 14,
   "id": "c6f7c4c8",
   "metadata": {},
   "outputs": [],
   "source": [
    "##########################################\n",
    "##                                      ##\n",
    "##  Calculate sigma_RESI for each spot  ##\n",
    "##                                      ##\n",
    "##########################################\n",
    "\n"
   ]
  },
  {
   "cell_type": "code",
   "execution_count": 15,
   "id": "908a8eb3",
   "metadata": {},
   "outputs": [],
   "source": []
  },
  {
   "cell_type": "code",
   "execution_count": null,
   "id": "3e96026b",
   "metadata": {},
   "outputs": [],
   "source": []
  }
 ],
 "metadata": {
  "kernelspec": {
   "display_name": "Python 3 (ipykernel)",
   "language": "python",
   "name": "python3"
  },
  "language_info": {
   "codemirror_mode": {
    "name": "ipython",
    "version": 3
   },
   "file_extension": ".py",
   "mimetype": "text/x-python",
   "name": "python",
   "nbconvert_exporter": "python",
   "pygments_lexer": "ipython3",
   "version": "3.9.7"
  }
 },
 "nbformat": 4,
 "nbformat_minor": 5
}
