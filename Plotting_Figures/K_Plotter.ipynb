{
 "cells": [
  {
   "cell_type": "code",
   "execution_count": 8,
   "id": "f55e4f4f",
   "metadata": {},
   "outputs": [],
   "source": [
    "import numpy as np\n",
    "import scipy as sp\n",
    "import pandas as pd\n",
    "import matplotlib.pyplot as plt\n",
    "import matplotlib as mpl\n",
    "from scipy.stats import norm\n",
    "import matplotlib.mlab as mlab\n",
    "import math"
   ]
  },
  {
   "cell_type": "code",
   "execution_count": 9,
   "id": "7e2f7413",
   "metadata": {},
   "outputs": [],
   "source": [
    "'''\n",
    "def GaussFWHM(R_vals, display_label):\n",
    "    (mu, sigma) = norm.fit(R_vals)\n",
    "    n, bins, patches = plt.hist(R_vals, density=True, color = \"orange\", alpha = 0.5)\n",
    "    xax = np.linspace(bins[0], bins[-1], 1000)\n",
    "    y = norm.pdf(xax, mu, sigma)\n",
    "    sigma_coords = [mu-sigma, mu+sigma]\n",
    "    FWHM = 2.354820045*sigma\n",
    "    FWHM_coords = [mu-0.5*FWHM, mu+0.5*FWHM]\n",
    "    plt.plot(xax,y, color = \"red\")\n",
    "    plt.axvline(FWHM_coords[0], color = \"black\")\n",
    "    plt.axvline(FWHM_coords[1], color = \"black\")\n",
    "    plt.axvline(sigma_coords[0], color = \"blue\")\n",
    "    plt.axvline(sigma_coords[1], color = \"blue\")\n",
    "    plt.title(display_label)\n",
    "    #plt.show()\n",
    "    plt.close()\n",
    "    return(FWHM)\n",
    "'''\n",
    "def Plot_RESI(Locations, Sizes, Fill_Color, Edge_Color, Opacity, Show_Labels, Textcolor, Labels):\n",
    "    for count, value in enumerate(Locations):\n",
    "        draw_circle = plt.Circle((value[0], value[1]), Sizes[count], \n",
    "                                 alpha=Opacity, facecolor = Fill_Color, edgecolor = Edge_Color)\n",
    "        ax.add_artist(draw_circle)\n",
    "        if show_labels==True:\n",
    "            ax.text(value[0]+2.5, value[1]-1, str(round(Labels[count], 2))+\" nm\", color = Textcolor)"
   ]
  },
  {
   "cell_type": "code",
   "execution_count": 10,
   "id": "de8192cf",
   "metadata": {},
   "outputs": [],
   "source": [
    "#################################\n",
    "##                             ##\n",
    "##  Input and format the data  ##\n",
    "##                             ##\n",
    "#################################\n",
    "\n",
    "input_path_R1 = \"/Volumes/pool-miblab4/users/steen/z.microscopy_raw/02_Project_RESI/220114_5nm_5xR1-5pr_7xR3-3pr_R4-align/analysis/R1_resi_merged_avg-appl_apicked.hdf5\"\n",
    "input_path_R3 = \"/Volumes/pool-miblab4/users/steen/z.microscopy_raw/02_Project_RESI/220114_5nm_5xR1-5pr_7xR3-3pr_R4-align/analysis/R3_resi_merged_avg-appl_apicked.hdf5\"\n",
    "\n",
    "#Read in data\n",
    "R1_table = pd.read_hdf(input_path_R1, key = 'locs')\n",
    "R3_table = pd.read_hdf(input_path_R3, key = 'locs')\n",
    "R1_table.sort_values(by=['group', 'frame'])\n",
    "R3_table.sort_values(by=['group', 'frame'])\n",
    "\n",
    "#Find innermost data points to adjust field of view for the plot\n",
    "Minx = min(R1_table[\"x\"].min(), R3_table[\"x\"].min())*130 -5\n",
    "Miny = max(R1_table[\"y\"].max(), R3_table[\"y\"].max())*130 +5\n",
    "\n",
    "#Find outermost data points to adjust field of view for the plot\n",
    "maxOuter = max(((max(R1_table[\"x\"].max(), R3_table[\"x\"].max())*130)-Minx), \n",
    "               (-(min(R1_table[\"y\"].min(), R3_table[\"y\"].min())*130)+Miny)) +5\n",
    "\n",
    "#Transform data points from pixels to nanometers and set the bottom left of the plot to 0,0\n",
    "R1_table[\"x\"] = 130*R1_table[\"x\"]-Minx\n",
    "R3_table[\"x\"] = 130*R3_table[\"x\"]-Minx\n",
    "R1_table[\"y\"] = -(130)*R1_table[\"y\"]+Miny\n",
    "R3_table[\"y\"] = -(130)*R3_table[\"y\"]+Miny"
   ]
  },
  {
   "cell_type": "code",
   "execution_count": 13,
   "id": "84af0366",
   "metadata": {},
   "outputs": [],
   "source": [
    "#######################################\n",
    "##                                   ##\n",
    "##  Plot the original localizations  ##\n",
    "##                                   ##\n",
    "#######################################\n",
    "\n"
   ]
  },
  {
   "cell_type": "code",
   "execution_count": 14,
   "id": "e81bac23",
   "metadata": {},
   "outputs": [],
   "source": [
    "##########################################\n",
    "##                                      ##\n",
    "##  Calculate sigma_RESI for each spot  ##\n",
    "##                                      ##\n",
    "##########################################\n",
    "\n"
   ]
  },
  {
   "cell_type": "code",
   "execution_count": 15,
   "id": "6958aa8d",
   "metadata": {},
   "outputs": [],
   "source": [
    "###################################\n",
    "##                               ##\n",
    "##  Plot the RESI localizations  ##\n",
    "##                               ##\n",
    "###################################\n",
    "\n"
   ]
  },
  {
   "cell_type": "code",
   "execution_count": null,
   "id": "55b4a236",
   "metadata": {},
   "outputs": [],
   "source": []
  }
 ],
 "metadata": {
  "kernelspec": {
   "display_name": "Python 3 (ipykernel)",
   "language": "python",
   "name": "python3"
  },
  "language_info": {
   "codemirror_mode": {
    "name": "ipython",
    "version": 3
   },
   "file_extension": ".py",
   "mimetype": "text/x-python",
   "name": "python",
   "nbconvert_exporter": "python",
   "pygments_lexer": "ipython3",
   "version": "3.9.7"
  }
 },
 "nbformat": 4,
 "nbformat_minor": 5
}
