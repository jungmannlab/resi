{
 "cells": [
  {
   "cell_type": "code",
   "execution_count": 1,
   "id": "b5825919",
   "metadata": {},
   "outputs": [],
   "source": [
    "import numpy as np\n",
    "import scipy as sp\n",
    "import pandas as pd\n",
    "import matplotlib.pyplot as plt\n",
    "import matplotlib as mpl"
   ]
  },
  {
   "cell_type": "code",
   "execution_count": 2,
   "id": "d02b00b8",
   "metadata": {},
   "outputs": [],
   "source": [
    "\n",
    "#WITHOUT DELETION: Groups 0, 1, 8, 9, 10, 11 are R4\n",
    "input_path_R1 = \"/Volumes/pool-miblab4/users/steen/z.microscopy_raw/02_Project_RESI/211221_RESI_newVoyager_FusionBT_R1R3_nodel/resi-analysis_2/R1_apicked_ori-all_aligned_resi_4_50_info_merge_avg-appl_apicked.hdf5\"\n",
    "input_path_R3 = \"/Volumes/pool-miblab4/users/steen/z.microscopy_raw/02_Project_RESI/211221_RESI_newVoyager_FusionBT_R1R3_nodel/resi-analysis_2/R3_apicked_ori-all_aligned_resi_4_50_info_merge_avg-appl_apicked.hdf5\"\n",
    "\n",
    "#WITH DELETION: Groups 0, 1, 8, 9, 10, 11 are R4\n",
    "#input_path_R1 = \"/Volumes/pool-miblab4/users/steen/z.microscopy_raw/02_Project_RESI/211130_RESI_R1-5pr_2del_R3-3pr_R4_single_align/resi-analysis_2/R1_apicked_ori-all_aligned_resi_4_50_info_merge_avg-appl_apicked.hdf5\"\n",
    "#input_path_R3 = \"/Volumes/pool-miblab4/users/steen/z.microscopy_raw/02_Project_RESI/211130_RESI_R1-5pr_2del_R3-3pr_R4_single_align/resi-analysis_2/R3_apicked_ori-all_aligned_resi_4_50_info_merge_avg-appl_apicked.hdf5\"\n",
    "\n",
    "R1_table = pd.read_hdf(input_path_R1, key = 'locs')\n",
    "R3_table = pd.read_hdf(input_path_R3, key = 'locs')\n",
    "R1_table.sort_values(by=['group', 'frame'])\n",
    "R3_table.sort_values(by=['group', 'frame'])\n",
    "\n",
    "Minx = min(R1_table[\"x\"].min(), R3_table[\"x\"].min())*130 -5\n",
    "Miny = max(R1_table[\"y\"].max(), R3_table[\"y\"].max())*130 +5\n",
    "\n",
    "maxOuter = max(((max(R1_table[\"x\"].max(), R3_table[\"x\"].max())*130)-Minx), (-(min(R1_table[\"y\"].min(), R3_table[\"y\"].min())*130)+Miny)) +5\n",
    "\n",
    "R1_table[\"x\"] = 130*R1_table[\"x\"]-Minx\n",
    "R3_table[\"x\"] = 130*R3_table[\"x\"]-Minx\n",
    "R1_table[\"y\"] = -(130)*R1_table[\"y\"]+Miny\n",
    "R3_table[\"y\"] = -(130)*R3_table[\"y\"]+Miny"
   ]
  },
  {
   "cell_type": "code",
   "execution_count": 3,
   "id": "aeea5169",
   "metadata": {},
   "outputs": [
    {
     "name": "stdout",
     "output_type": "stream",
     "text": [
      "[[ 0.10553932  0.21909332]\n",
      " [ 0.09010172  0.25752258]\n",
      " [-0.11485672 -0.08600235]\n",
      " [ 0.14519501 -0.35147476]\n",
      " [ 0.0052948  -0.20373917]\n",
      " [-0.16011429 -0.18920612]]\n",
      "[0.24318806 0.27282998 0.14348683 0.38028423 0.20380796 0.24786194]\n",
      "R4 from R1 channel std:  [1.34430395 1.45169828]\n",
      "R4 from R3 channel std:  [1.40766515 1.4659215 ]\n"
     ]
    }
   ],
   "source": [
    "R4_positions_R1_channel = []\n",
    "R4_std_R1_channel = []\n",
    "R4_positions_R3_channel = []\n",
    "R4_std_R3_channel = []\n",
    "\n",
    "for i in (0,1,8,9,10,11):\n",
    "#for i in (0,1,2,3,10,11):\n",
    "    R1 = (R1_table[R1_table[\"group\"] == i])\n",
    "    Avg_R1 = R1[\"x\"].mean(), R1[\"y\"].mean()\n",
    "    Std_R1 = R1[\"x\"].std(), R1[\"y\"].std()\n",
    "    R3 = (R3_table[R3_table[\"group\"] == i])\n",
    "    Avg_R3 = R3[\"x\"].mean(), R3[\"y\"].mean()\n",
    "    Std_R3 = R3[\"x\"].std(), R3[\"y\"].std()\n",
    "    \n",
    "    R4_positions_R1_channel.append(Avg_R1)\n",
    "    R4_std_R1_channel.append(Std_R1)\n",
    "    R4_positions_R3_channel.append(Avg_R3)\n",
    "    R4_std_R3_channel.append(Std_R3)\n",
    "    \n",
    "R4_positions_R1_channel = np.asarray(R4_positions_R1_channel)\n",
    "R4_positions_R3_channel = np.asarray(R4_positions_R3_channel)\n",
    "R4_std_R1_channel = np.asarray(R4_std_R1_channel)\n",
    "R4_std_R3_channel = np.asarray(R4_std_R3_channel)\n",
    "\n",
    "R4_differences = (R4_positions_R1_channel - R4_positions_R3_channel)\n",
    "\n",
    "R4_distances = (np.sqrt(R4_differences[:,0]**2 + R4_differences[:,1]**2))\n",
    "\n",
    "print(R4_differences)\n",
    "print(R4_distances)\n",
    "\n",
    "\n",
    "\n",
    "print(\"R4 from R1 channel std: \", np.mean(R4_std_R1_channel, axis=0))\n",
    "print(\"R4 from R3 channel std: \", np.mean(R4_std_R3_channel, axis=0))"
   ]
  },
  {
   "cell_type": "code",
   "execution_count": 4,
   "id": "ccac8087",
   "metadata": {},
   "outputs": [
    {
     "name": "stdout",
     "output_type": "stream",
     "text": [
      "[[-1.12090683  0.4122467 ]\n",
      " [-1.43300819 -0.03483582]\n",
      " [-1.27166367  0.5317688 ]\n",
      " [-1.3986969  -0.13740158]\n",
      " [-1.38252258  0.14503479]\n",
      " [-1.59502411 -0.10848808]]\n",
      "[1.19431129 1.43343155 1.37837097 1.40542955 1.39010927 1.59870935]\n",
      "R1 std:  [0.95483633 1.06797478]\n",
      "R3 std:  [1.35638946 1.39748021]\n"
     ]
    }
   ],
   "source": [
    "R1_resi = []\n",
    "R1_resi_std = []\n",
    "R3_resi = []\n",
    "R3_resi_std = []\n",
    "\n",
    "for i in (2,3,4,5,6,7):\n",
    "#for i in (4,5,6,7,8,9):\n",
    "    R1 = (R1_table[R1_table[\"group\"] == i])\n",
    "    Avg_R1 = R1[\"x\"].mean(), R1[\"y\"].mean()\n",
    "    Std_R1 = R1[\"x\"].std(), R1[\"y\"].std()\n",
    "    R3 = (R3_table[R3_table[\"group\"] == i])\n",
    "    Avg_R3 = R3[\"x\"].mean(), R3[\"y\"].mean()\n",
    "    Std_R3 = R3[\"x\"].std(), R3[\"y\"].std()\n",
    "    \n",
    "    R1_resi.append(Avg_R1)\n",
    "    R1_resi_std.append(Std_R1)\n",
    "    R3_resi.append(Avg_R3)\n",
    "    R3_resi_std.append(Std_R3)\n",
    "    \n",
    "R1_resi = np.asarray(R1_resi)\n",
    "R3_resi = np.asarray(R3_resi)\n",
    "R1_resi_std = np.asarray(R1_resi_std)\n",
    "R3_resi_std = np.asarray(R3_resi_std)\n",
    "\n",
    "Resi_differences = (R1_resi - R3_resi)\n",
    "Resi_distances = (np.sqrt(Resi_differences[:,0]**2 + Resi_differences[:,1]**2))\n",
    "\n",
    "print(Resi_differences)\n",
    "print(Resi_distances)\n",
    "\n",
    "print(\"R1 std: \", np.mean(R1_resi_std, axis=0))\n",
    "print(\"R3 std: \", np.mean(R3_resi_std, axis=0))"
   ]
  },
  {
   "cell_type": "code",
   "execution_count": 5,
   "id": "cf7b9870",
   "metadata": {},
   "outputs": [
    {
     "data": {
      "text/plain": [
       "(0.0, 94.92767333984375)"
      ]
     },
     "execution_count": 5,
     "metadata": {},
     "output_type": "execute_result"
    },
    {
     "data": {
      "image/png": "[encoded data removed]",
      "text/plain": [
       "<Figure size 864x864 with 1 Axes>"
      ]
     },
     "metadata": {
      "needs_background": "light"
     },
     "output_type": "display_data"
    }
   ],
   "source": [
    "fig, ax = plt.subplots(figsize=(12, 12))\n",
    "\n",
    "ax.axis('equal')\n",
    "\n",
    "ax.scatter(R1_resi[:,0], R1_resi[:,1], color = \"red\", label = \"R1\")\n",
    "ax.scatter(R3_resi[:,0], R3_resi[:,1], color = \"blue\", label = \"R3\")\n",
    "\n",
    "ax.scatter(R4_positions_R1_channel[:,0], R4_positions_R1_channel[:,1], color = \"maroon\", label = \"R4 from R1 channel\")\n",
    "ax.scatter(R4_positions_R3_channel[:,0], R4_positions_R3_channel[:,1], color = \"darkblue\", label = \"R4 from R3 channel\")\n",
    "\n",
    "ax.set_ylim(0, maxOuter)\n",
    "ax.set_xlim(0, maxOuter)"
   ]
  },
  {
   "cell_type": "code",
   "execution_count": 9,
   "id": "38737e91",
   "metadata": {
    "scrolled": false
   },
   "outputs": [
    {
     "name": "stdout",
     "output_type": "stream",
     "text": [
      "[[ 4175.56201172 -4089.33300781]\n",
      " [ 4165.71777344 -4101.28710938]\n",
      " [ 4222.01708984 -4135.01416016]\n",
      " [ 4241.69384766 -4126.38671875]\n",
      " [ 4230.14404297 -4141.81787109]\n",
      " [ 4214.84179688 -4161.20166016]]\n",
      "[[ 4202.47216797 -4094.70239258]\n",
      " [ 4189.76611328 -4110.75585938]\n",
      " [ 4177.29541016 -4127.22412109]\n",
      " [ 4217.90283203 -4107.80371094]\n",
      " [ 4205.41943359 -4123.71386719]\n",
      " [ 4193.22900391 -4140.04199219]]\n"
     ]
    }
   ],
   "source": [
    "R4_cloudsizes = []\n",
    "for i in (0,1,8,9,10,11):\n",
    "    a = R1_table[R1_table[\"group\"]==i]\n",
    "    b = R3_table[R3_table[\"group\"]==i]\n",
    "    new_group = a.append(b)\n",
    "    R4_cloudsizes.append((new_group[\"x\"].mean(), new_group[\"y\"].mean()))\n",
    "\n",
    "R1_3_cloudsizes = []\n",
    "for i in (2,3,4,5,6,7):\n",
    "    a = R1_table[R1_table[\"group\"]==i]\n",
    "    b = R3_table[R3_table[\"group\"]==i]\n",
    "    new_group = a.append(b)\n",
    "    R1_3_cloudsizes.append((new_group[\"x\"].mean(), new_group[\"y\"].mean()))\n",
    "    \n",
    "R4_cloudsizes = np.asarray(R4_cloudsizes)\n",
    "R1_3_cloudsizes = np.asarray(R1_3_cloudsizes)\n",
    "\n",
    "print(R4_cloudsizes)\n",
    "print(R1_3_cloudsizes)"
   ]
  },
  {
   "cell_type": "code",
   "execution_count": null,
   "id": "ccb14f97",
   "metadata": {},
   "outputs": [],
   "source": []
  }
 ],
 "metadata": {
  "kernelspec": {
   "display_name": "Python 3 (ipykernel)",
   "language": "python",
   "name": "python3"
  },
  "language_info": {
   "codemirror_mode": {
    "name": "ipython",
    "version": 3
   },
   "file_extension": ".py",
   "mimetype": "text/x-python",
   "name": "python",
   "nbconvert_exporter": "python",
   "pygments_lexer": "ipython3",
   "version": "3.9.7"
  }
 },
 "nbformat": 4,
 "nbformat_minor": 5
}
